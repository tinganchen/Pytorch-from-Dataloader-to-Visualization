{
 "cells": [
  {
   "cell_type": "markdown",
   "metadata": {},
   "source": [
    "# Pytorch-mini-LeNet-MNIST\n",
    "\n"
   ]
  },
  {
   "cell_type": "markdown",
   "metadata": {},
   "source": [
    "Reference: https://xmfbit.github.io/2017/03/04/pytorch-mnist-example/"
   ]
  },
  {
   "cell_type": "markdown",
   "metadata": {},
   "source": [
    "# What to learn in this notebook?\n",
    "1. Import dataset and load it as batches\n",
    "2. CNN model\n",
    "3. Training, testing and save the model\n",
    "4. Load model weights and predict\n",
    "5. Visualize filter weights and feature maps in each layer\n",
    "6. Save feature maps and input image"
   ]
  },
  {
   "cell_type": "markdown",
   "metadata": {},
   "source": [
    "## 1. Import dataset and load it as batches"
   ]
  },
  {
   "cell_type": "code",
   "execution_count": 1,
   "metadata": {},
   "outputs": [],
   "source": [
    "import torch\n",
    "import torch.nn as nn\n",
    "from torch.autograd import Variable\n",
    "import torchvision.datasets as dset\n",
    "import torchvision.transforms as transforms\n",
    "import torch.nn.functional as F\n",
    "import torch.optim as optim\n",
    "\n",
    "trans = transforms.Compose([transforms.ToTensor(), transforms.Normalize((0.5,), (1.0,))])\n",
    "train_set = dset.MNIST(root='data/', train=True, transform=trans, download=True)\n",
    "test_set = dset.MNIST(root='data/', train=False, transform=trans)\n",
    "batch_size = 128\n",
    "train_loader = torch.utils.data.DataLoader(\n",
    "                 dataset=train_set,\n",
    "                 batch_size=batch_size,\n",
    "                 shuffle=True)\n",
    "test_loader = torch.utils.data.DataLoader(\n",
    "                dataset=test_set,\n",
    "                batch_size=batch_size,\n",
    "                shuffle=False)"
   ]
  },
  {
   "cell_type": "code",
   "execution_count": 2,
   "metadata": {},
   "outputs": [
    {
     "name": "stdout",
     "output_type": "stream",
     "text": [
      "torch.Size([128, 1, 28, 28])\n",
      "torch.Size([128])\n"
     ]
    }
   ],
   "source": [
    "img_size = list(iter(train_loader))[0][0].shape\n",
    "img_label = list(iter(train_loader))[0][1].shape\n",
    "print(img_size) # batch_size, channel_size, h, w\n",
    "print(img_label) # batch_size"
   ]
  },
  {
   "cell_type": "markdown",
   "metadata": {},
   "source": [
    "## 2. CNN model"
   ]
  },
  {
   "cell_type": "code",
   "execution_count": 3,
   "metadata": {},
   "outputs": [],
   "source": [
    "class LeNet(nn.Module):\n",
    "    def __init__(self):\n",
    "        super(LeNet, self).__init__()\n",
    "        self.conv1 = nn.Conv2d(1, 20, 5, 1) # in_channel, out_channel, kernel, stride\n",
    "        self.conv2 = nn.Conv2d(20, 50, 5, 1)\n",
    "        '''\n",
    "        self.fc1 = nn.Linear(4*4*50, 500)\n",
    "        self.fc2 = nn.Linear(500, 10)\n",
    "        '''\n",
    "    def forward(self, x):\n",
    "        x = F.relu(self.conv1(x))\n",
    "        x = F.max_pool2d(x, 2, 2)\n",
    "        x = F.relu(self.conv2(x))\n",
    "        x = F.max_pool2d(x, 2, 2)\n",
    "        '''\n",
    "        x = x.view(-1, 4*4*50)\n",
    "        x = F.relu(self.fc1(x))\n",
    "        x = self.fc2(x)\n",
    "        '''\n",
    "        return x\n",
    "    \n",
    "    def name(self):\n",
    "        return \"LeNet\""
   ]
  },
  {
   "cell_type": "code",
   "execution_count": 4,
   "metadata": {},
   "outputs": [
    {
     "data": {
      "text/plain": [
       "torch.Size([1, 50, 4, 4])"
      ]
     },
     "execution_count": 4,
     "metadata": {},
     "output_type": "execute_result"
    }
   ],
   "source": [
    "# Check output size before FC layers\n",
    "\n",
    "input_ = torch.rand([1, 1, 28, 28])\n",
    "\n",
    "model = LeNet()\n",
    "model(input_).shape # batch_size, out_channel, H, W"
   ]
  },
  {
   "cell_type": "code",
   "execution_count": 5,
   "metadata": {},
   "outputs": [],
   "source": [
    "class LeNet(nn.Module):\n",
    "    def __init__(self):\n",
    "        super(LeNet, self).__init__()\n",
    "        self.conv1 = nn.Conv2d(1, 20, 5, 1) # in_channel, out_channel, kernel, stride\n",
    "        self.conv2 = nn.Conv2d(20, 50, 5, 1)\n",
    "        self.fc1 = nn.Linear(4*4*50, 500)\n",
    "        self.fc2 = nn.Linear(500, 10)\n",
    "\n",
    "    def forward(self, x):\n",
    "        self.x1 = F.relu(self.conv1(x))\n",
    "        self.x2 = F.max_pool2d(self.x1, 2, 2)\n",
    "        self.x3 = F.relu(self.conv2(self.x2))\n",
    "        self.x4 = F.max_pool2d(self.x3, 2, 2)\n",
    "        self.x5 = self.x4.view(-1, 4*4*50)\n",
    "        self.x6 = F.relu(self.fc1(self.x5))\n",
    "        self.out = self.fc2(self.x6)\n",
    "        return self.out\n",
    "    \n",
    "    def get_features(self):\n",
    "        return self.x1, self.x2, self.x3, self.x4, self.x5, self.x6, self.out\n",
    "        "
   ]
  },
  {
   "cell_type": "markdown",
   "metadata": {},
   "source": [
    "## 3. Training, testing and save the model"
   ]
  },
  {
   "cell_type": "code",
   "execution_count": 6,
   "metadata": {},
   "outputs": [],
   "source": [
    "import json\n",
    "\n",
    "def state_dict2json(state_dict, PATH, return_checkpt = False):\n",
    "    checkpoint_dict = {}\n",
    "\n",
    "    for key in list(state_dict.keys()):\n",
    "        checkpoint_dict[key] = state_dict[key].numpy().tolist()\n",
    "\n",
    "    with open(PATH, 'w') as json_file:\n",
    "        json.dump(checkpoint_dict, json_file)\n",
    "    \n",
    "    if return_checkpt:\n",
    "        return checkpoint_dict\n"
   ]
  },
  {
   "cell_type": "code",
   "execution_count": 7,
   "metadata": {},
   "outputs": [
    {
     "name": "stdout",
     "output_type": "stream",
     "text": [
      "Epoch: 0, Batch: 100/469, Time: 22.8081, Train loss: 1.317313e-02, Train accuracy: 0.566641\n",
      "Epoch: 0, Batch: 200/469, Time: 22.1634, Train loss: 7.928229e-03, Train accuracy: 0.731367\n",
      "Epoch: 0, Batch: 300/469, Time: 23.3106, Train loss: 5.814007e-03, Train accuracy: 0.800339\n",
      "Epoch: 0, Batch: 400/469, Time: 24.3697, Train loss: 4.650422e-03, Train accuracy: 0.838945\n",
      "Epoch: 0, Batch: 469/469, Time: 17.1207, Train loss: 4.116059e-03, Train accuracy: 0.856733\n",
      "Weights in Epoch 0 saved.\n",
      "=======>  Train loss: 4.116059e-03, Train accuracy: 0.856733, Test loss: 7.626649e-04, Test accuracy: 0.970700\n",
      "\n",
      "Epoch: 1, Batch: 100/469, Time: 21.5899, Train loss: 8.859608e-04, Train accuracy: 0.966406\n",
      "Epoch: 1, Batch: 200/469, Time: 23.9347, Train loss: 8.033895e-04, Train accuracy: 0.968672\n",
      "Epoch: 1, Batch: 300/469, Time: 22.2614, Train loss: 7.650028e-04, Train accuracy: 0.970365\n",
      "Epoch: 1, Batch: 400/469, Time: 24.1283, Train loss: 7.260333e-04, Train accuracy: 0.971191\n",
      "Epoch: 1, Batch: 469/469, Time: 16.7563, Train loss: 7.125721e-04, Train accuracy: 0.971967\n",
      "Weights in Epoch 1 saved.\n",
      "=======>  Train loss: 7.125721e-04, Train accuracy: 0.971967, Test loss: 5.059751e-04, Test accuracy: 0.980700\n",
      "\n",
      "Epoch: 2, Batch: 100/469, Time: 22.3576, Train loss: 4.619635e-04, Train accuracy: 0.980078\n",
      "Epoch: 2, Batch: 200/469, Time: 20.8114, Train loss: 4.632651e-04, Train accuracy: 0.981016\n",
      "Epoch: 2, Batch: 300/469, Time: 23.4713, Train loss: 4.862358e-04, Train accuracy: 0.980833\n",
      "Epoch: 2, Batch: 400/469, Time: 22.4379, Train loss: 4.805515e-04, Train accuracy: 0.981191\n",
      "Epoch: 2, Batch: 469/469, Time: 15.3973, Train loss: 4.699340e-04, Train accuracy: 0.981600\n",
      "Weights in Epoch 2 saved.\n",
      "=======>  Train loss: 4.699340e-04, Train accuracy: 0.981600, Test loss: 4.106456e-04, Test accuracy: 0.983900\n",
      "\n"
     ]
    }
   ],
   "source": [
    "import time\n",
    "\n",
    "## training\n",
    "model = LeNet()\n",
    "\n",
    "use_cuda = torch.cuda.is_available()\n",
    "\n",
    "if use_cuda:\n",
    "    print(\"CUDA\")\n",
    "    model = model.cuda()\n",
    "\n",
    "# Define Loss and optimizer\n",
    "\n",
    "criterion = nn.CrossEntropyLoss()\n",
    "\n",
    "optimizer = optim.SGD(model.parameters(), lr = 0.01, momentum = 0.9)\n",
    "\n",
    "train_acc_best = 0.\n",
    "for epoch in range(3):\n",
    "    ## training\n",
    "    correct_cnt, train_loss = 0, 0\n",
    "    total_cnt = 0\n",
    "    \n",
    "    START = time.time()\n",
    "    for batch_idx, (x, target) in enumerate(train_loader):\n",
    "        \n",
    "        # Input\n",
    "        if use_cuda:\n",
    "            x, target = x.cuda(), target.cuda()\n",
    "        # x, target = Variable(x), Variable(target)\n",
    "        \n",
    "        # Forward + Backward + Optimize\n",
    "        optimizer.zero_grad()\n",
    "        \n",
    "        # Predict\n",
    "        out = model(x)\n",
    "        \n",
    "        # Size\n",
    "        sample_size = x.data.size()[0]\n",
    "        total_cnt += sample_size\n",
    "        \n",
    "        # Loss\n",
    "        loss = criterion(out, target)\n",
    "        train_loss = (train_loss * (total_cnt - sample_size) + loss.item()) / total_cnt # avg_loss = avg_loss * 0.9 + loss.data[0] * 0.1\n",
    "        \n",
    "        # Accuracy\n",
    "        _, pred_label = torch.max(out, 1)\n",
    "        correct_cnt += (pred_label == target.data).sum().item()\n",
    "        train_acc = correct_cnt * 1.0 / total_cnt\n",
    "        \n",
    "        # Update gradients\n",
    "        loss.backward()\n",
    "        optimizer.step()\n",
    "        \n",
    "        if (batch_idx + 1) % 100 == 0 or (batch_idx + 1) == len(train_loader):\n",
    "            END = time.time()\n",
    "            print('Epoch: {}, Batch: {}/{}, Time: {:.4f}, Train loss: {:e}, Train accuracy: {:.6f}'.format(\n",
    "                epoch, batch_idx + 1,  len(train_loader), END - START, train_loss, train_acc))\n",
    "            START = time.time()\n",
    "    \n",
    "    # Save the better models\n",
    "    if train_acc > train_acc_best:\n",
    "        train_acc_best = train_acc\n",
    "        torch.save(model.state_dict(), 'weights/LeNet_epoch{}'.format(epoch))\n",
    "        \n",
    "        PATH = 'weights/LeNet_epoch{}.json'.format(epoch)\n",
    "        state_dict = model.state_dict()\n",
    "        state_dict2json(state_dict, PATH, return_checkpt = False)\n",
    "        \n",
    "        print('Weights in Epoch {} saved.'.format(epoch))\n",
    "    \n",
    "    ## testing\n",
    "    \n",
    "    correct_cnt, test_loss = 0, 0\n",
    "    total_cnt = 0\n",
    "    for batch_idx, (x, target) in enumerate(test_loader):\n",
    "        # Input\n",
    "        if use_cuda:\n",
    "            x, target = x.cuda(), target.cuda()\n",
    "        # x, target = Variable(x, volatile = True), Variable(target, volatile = True)\n",
    "        \n",
    "        # Predict\n",
    "        out = model(x)\n",
    "        \n",
    "        # Size\n",
    "        sample_size = x.data.size()[0]\n",
    "        total_cnt += sample_size\n",
    "        \n",
    "        # Loss\n",
    "        loss = criterion(out, target)\n",
    "        # (smooth average)\n",
    "        test_loss = (test_loss * (total_cnt - sample_size) + loss.item()) / total_cnt\n",
    "    \n",
    "        # Accuracy\n",
    "        _, pred_label = torch.max(out.data, 1)\n",
    "        correct_cnt += (pred_label == target.data).sum().item()\n",
    "        test_acc = correct_cnt * 1.0 / total_cnt\n",
    "        \n",
    "        '''\n",
    "        if(batch_idx + 1) % 100 == 0 or (batch_idx + 1) == len(test_loader):\n",
    "            print('Epoch: {}, Batch: {}/{}, Test loss: {:e}, Test accuracy: {:.6f}'.format(\n",
    "                epoch, batch_idx + 1, len(train_loader), test_loss, test_acc))\n",
    "        '''\n",
    "    print('=======>  Train loss: {:e}, Train accuracy: {:.6f}, Test loss: {:e}, Test accuracy: {:.6f}\\n'.format(\n",
    "        train_loss, train_acc, test_loss, test_acc))\n",
    "\n",
    "# torch.save(model.state_dict(), model.name())"
   ]
  },
  {
   "cell_type": "markdown",
   "metadata": {},
   "source": [
    "## 4. Load model weights and predict"
   ]
  },
  {
   "cell_type": "code",
   "execution_count": 8,
   "metadata": {},
   "outputs": [
    {
     "data": {
      "text/plain": [
       "<generator object Module.parameters at 0x7f4d640fdb10>"
      ]
     },
     "execution_count": 8,
     "metadata": {},
     "output_type": "execute_result"
    }
   ],
   "source": [
    "# Load model and weights\n",
    "model = LeNet()\n",
    "model.load_state_dict(torch.load('weights/LeNet_epoch2'))\n",
    "model.eval()\n",
    "model.parameters()"
   ]
  },
  {
   "cell_type": "code",
   "execution_count": 9,
   "metadata": {},
   "outputs": [
    {
     "name": "stdout",
     "output_type": "stream",
     "text": [
      "torch.Size([1, 28, 28]) tensor(7)\n",
      "tensor(7)\n"
     ]
    }
   ],
   "source": [
    "# Predict an image\n",
    "## \n",
    "images, gts = list(iter(test_loader))[0]\n",
    "img = images[0]\n",
    "gt = gts[0]\n",
    "print(img.shape, gt)\n",
    "\n",
    "## plot\n",
    "import matplotlib.pyplot as plt\n",
    "\n",
    "plt.imshow(img.squeeze(0).numpy(), cmap = 'Greys')\n",
    "\n",
    "## predict\n",
    "pred_result = model(img.unsqueeze(0)).argmax()\n",
    "print(pred_result)"
   ]
  },
  {
   "cell_type": "code",
   "execution_count": 10,
   "metadata": {},
   "outputs": [],
   "source": [
    "# list(model.parameters())"
   ]
  },
  {
   "cell_type": "markdown",
   "metadata": {},
   "source": [
    "## 5. Visualize filter weights and feature maps in each layer"
   ]
  },
  {
   "cell_type": "code",
   "execution_count": 11,
   "metadata": {},
   "outputs": [
    {
     "name": "stdout",
     "output_type": "stream",
     "text": [
      "torch.Size([1, 5, 5]) torch.Size([5, 5])\n",
      "torch.Size([1, 5, 5]) torch.Size([5, 5])\n",
      "torch.Size([1, 5, 5]) torch.Size([5, 5])\n",
      "torch.Size([1, 5, 5]) torch.Size([5, 5])\n",
      "torch.Size([1, 5, 5]) torch.Size([5, 5])\n",
      "torch.Size([20, 1, 5, 5])\n"
     ]
    },
    {
     "data": {
      "image/png": "[encoded data removed]",
      "text/plain": [
       "<Figure size 432x288 with 5 Axes>"
      ]
     },
     "metadata": {
      "needs_background": "light"
     },
     "output_type": "display_data"
    }
   ],
   "source": [
    "# Visualize conv1 filter\n",
    "kernels = model.conv1.weight.detach()\n",
    "plt.figure()\n",
    "for idx in range(kernels.size(0))[:5]:\n",
    "    plt.subplot(151 + idx)\n",
    "    plt.imshow(kernels[idx].squeeze(), cmap = 'Greys')\n",
    "    print(kernels[idx].shape, kernels[idx].squeeze().shape)\n",
    "print(kernels.size())"
   ]
  },
  {
   "cell_type": "code",
   "execution_count": 12,
   "metadata": {},
   "outputs": [
    {
     "data": {
      "text/plain": [
       "torch.Size([50, 20, 5, 5])"
      ]
     },
     "execution_count": 12,
     "metadata": {},
     "output_type": "execute_result"
    }
   ],
   "source": [
    "model.conv2.weight.detach().size()"
   ]
  },
  {
   "cell_type": "code",
   "execution_count": 13,
   "metadata": {},
   "outputs": [
    {
     "name": "stdout",
     "output_type": "stream",
     "text": [
      "torch.Size([5, 5]) torch.Size([5, 5])\n",
      "torch.Size([5, 5]) torch.Size([5, 5])\n",
      "torch.Size([5, 5]) torch.Size([5, 5])\n",
      "torch.Size([5, 5]) torch.Size([5, 5])\n",
      "torch.Size([5, 5]) torch.Size([5, 5])\n",
      "torch.Size([5, 5]) torch.Size([5, 5])\n",
      "torch.Size([5, 5]) torch.Size([5, 5])\n",
      "torch.Size([5, 5]) torch.Size([5, 5])\n",
      "torch.Size([50, 20, 5, 5])\n"
     ]
    },
    {
     "data": {
      "image/png": "[encoded data removed]",
      "text/plain": [
       "<Figure size 432x288 with 8 Axes>"
      ]
     },
     "metadata": {
      "needs_background": "light"
     },
     "output_type": "display_data"
    }
   ],
   "source": [
    "# Visualize conv2 filter\n",
    "kernels = model.conv2.weight.detach()\n",
    "plt.figure()\n",
    "count = 0\n",
    "for idx0 in range(kernels.size(0))[:4]:\n",
    "    for idx1 in range(kernels.size(1))[:2]:\n",
    "        plt.subplot(241 + count)\n",
    "        count += 1\n",
    "        plt.imshow(kernels[idx0][idx1].squeeze(), cmap = 'Greys')\n",
    "        print(kernels[idx0][idx1].shape, kernels[idx0][idx1].squeeze().shape)\n",
    "print(kernels.size())"
   ]
  },
  {
   "cell_type": "code",
   "execution_count": 14,
   "metadata": {},
   "outputs": [
    {
     "data": {
      "text/plain": [
       "LeNet(\n",
       "  (conv1): Conv2d(1, 20, kernel_size=(5, 5), stride=(1, 1))\n",
       "  (conv2): Conv2d(20, 50, kernel_size=(5, 5), stride=(1, 1))\n",
       "  (fc1): Linear(in_features=800, out_features=500, bias=True)\n",
       "  (fc2): Linear(in_features=500, out_features=10, bias=True)\n",
       ")"
      ]
     },
     "execution_count": 14,
     "metadata": {},
     "output_type": "execute_result"
    }
   ],
   "source": [
    "model.eval()"
   ]
  },
  {
   "cell_type": "code",
   "execution_count": 15,
   "metadata": {},
   "outputs": [
    {
     "data": {
      "text/plain": [
       "LeNet(\n",
       "  (conv1): Conv2d(1, 20, kernel_size=(5, 5), stride=(1, 1))\n",
       "  (conv2): Conv2d(20, 50, kernel_size=(5, 5), stride=(1, 1))\n",
       "  (fc1): Linear(in_features=800, out_features=500, bias=True)\n",
       "  (fc2): Linear(in_features=500, out_features=10, bias=True)\n",
       ")"
      ]
     },
     "execution_count": 15,
     "metadata": {},
     "output_type": "execute_result"
    }
   ],
   "source": [
    "model.eval()"
   ]
  },
  {
   "cell_type": "code",
   "execution_count": 16,
   "metadata": {},
   "outputs": [],
   "source": [
    "# for name, param in model.state_dict().items():\n",
    "#     print(name, param)"
   ]
  },
  {
   "cell_type": "code",
   "execution_count": 17,
   "metadata": {},
   "outputs": [
    {
     "data": {
      "text/plain": [
       "7"
      ]
     },
     "execution_count": 17,
     "metadata": {},
     "output_type": "execute_result"
    }
   ],
   "source": [
    "# Feature maps\n",
    "fmaps = model.get_features()\n",
    "len(fmaps)"
   ]
  },
  {
   "cell_type": "code",
   "execution_count": 18,
   "metadata": {},
   "outputs": [
    {
     "data": {
      "text/plain": [
       "[torch.Size([1, 20, 24, 24]),\n",
       " torch.Size([1, 20, 12, 12]),\n",
       " torch.Size([1, 50, 8, 8]),\n",
       " torch.Size([1, 50, 4, 4]),\n",
       " torch.Size([1, 800]),\n",
       " torch.Size([1, 500]),\n",
       " torch.Size([1, 10])]"
      ]
     },
     "execution_count": 18,
     "metadata": {},
     "output_type": "execute_result"
    }
   ],
   "source": [
    "## Size\n",
    "[fmap.shape for fmap in fmaps]"
   ]
  },
  {
   "cell_type": "code",
   "execution_count": 19,
   "metadata": {
    "scrolled": true
   },
   "outputs": [
    {
     "data": {
      "text/plain": [
       "20"
      ]
     },
     "execution_count": 19,
     "metadata": {},
     "output_type": "execute_result"
    }
   ],
   "source": [
    "## Visualize fmap - relu(conv1)\n",
    "fmap0 = fmaps[0]\n",
    "fmap0.squeeze().size(0)"
   ]
  },
  {
   "cell_type": "code",
   "execution_count": 20,
   "metadata": {},
   "outputs": [
    {
     "data": {
      "image/png": "[encoded data removed]",
      "text/plain": [
       "<Figure size 432x288 with 20 Axes>"
      ]
     },
     "metadata": {
      "needs_background": "light"
     },
     "output_type": "display_data"
    }
   ],
   "source": [
    "plt.figure()\n",
    "\n",
    "for i in range(fmap0.squeeze().size(0)):\n",
    "    plt.subplot(4, 5, i + 1)\n",
    "    plt.imshow(fmap0.squeeze()[i].detach().numpy(), cmap = 'Greys')"
   ]
  },
  {
   "cell_type": "code",
   "execution_count": 21,
   "metadata": {},
   "outputs": [
    {
     "data": {
      "text/plain": [
       "20"
      ]
     },
     "execution_count": 21,
     "metadata": {},
     "output_type": "execute_result"
    }
   ],
   "source": [
    "## Visualize fmap - max_pool1\n",
    "fmap1 = fmaps[1]\n",
    "fmap1.squeeze().size(0)"
   ]
  },
  {
   "cell_type": "code",
   "execution_count": 22,
   "metadata": {},
   "outputs": [
    {
     "data": {
      "image/png": "[encoded data removed]",
      "text/plain": [
       "<Figure size 432x288 with 20 Axes>"
      ]
     },
     "metadata": {
      "needs_background": "light"
     },
     "output_type": "display_data"
    }
   ],
   "source": [
    "plt.figure()\n",
    "\n",
    "for i in range(fmap1.squeeze().size(0)):\n",
    "    plt.subplot(4, 5, i + 1)\n",
    "    plt.imshow(fmap1.squeeze()[i].detach().numpy(), cmap = 'Greys')\n"
   ]
  },
  {
   "cell_type": "code",
   "execution_count": 23,
   "metadata": {},
   "outputs": [
    {
     "data": {
      "text/plain": [
       "50"
      ]
     },
     "execution_count": 23,
     "metadata": {},
     "output_type": "execute_result"
    }
   ],
   "source": [
    "## Visualize fmap - relu(conv2)\n",
    "fmap2 = fmaps[2]\n",
    "fmap2.squeeze().size(0)"
   ]
  },
  {
   "cell_type": "code",
   "execution_count": 24,
   "metadata": {},
   "outputs": [
    {
     "data": {
      "image/png": "[encoded data removed]",
      "text/plain": [
       "<Figure size 432x288 with 20 Axes>"
      ]
     },
     "metadata": {
      "needs_background": "light"
     },
     "output_type": "display_data"
    }
   ],
   "source": [
    "plt.figure()\n",
    "\n",
    "for i in range(fmap2.squeeze().size(0))[:20]: # sample 20 from 50 chnnels\n",
    "    plt.subplot(4, 5, i + 1)\n",
    "    plt.imshow(fmap2.squeeze()[i].detach().numpy(), cmap = 'Greys')"
   ]
  },
  {
   "cell_type": "code",
   "execution_count": 25,
   "metadata": {},
   "outputs": [
    {
     "data": {
      "text/plain": [
       "50"
      ]
     },
     "execution_count": 25,
     "metadata": {},
     "output_type": "execute_result"
    }
   ],
   "source": [
    "## Visualize fmap - max_pool2\n",
    "fmap3 = fmaps[3]\n",
    "fmap3.squeeze().size(0)"
   ]
  },
  {
   "cell_type": "code",
   "execution_count": 26,
   "metadata": {},
   "outputs": [
    {
     "data": {
      "image/png": "[encoded data removed]",
      "text/plain": [
       "<Figure size 432x288 with 20 Axes>"
      ]
     },
     "metadata": {
      "needs_background": "light"
     },
     "output_type": "display_data"
    }
   ],
   "source": [
    "plt.figure()\n",
    "\n",
    "for i in range(fmap3.squeeze().size(0))[:20]: # sample 20 from 50 chnnels\n",
    "    plt.subplot(4, 5, i + 1)\n",
    "    plt.imshow(fmap3.squeeze()[i].detach().numpy(), cmap = 'Greys')\n"
   ]
  },
  {
   "cell_type": "markdown",
   "metadata": {},
   "source": [
    "## 6. Save feature maps and input image"
   ]
  },
  {
   "cell_type": "code",
   "execution_count": 27,
   "metadata": {},
   "outputs": [],
   "source": [
    "# Save fmaps as .json\n",
    "fmaps_dict = {}\n",
    "for i in range(len(fmaps)):\n",
    "    fmaps_dict['fmap{}'.format(i)] = fmaps[i].detach().numpy().tolist()\n",
    "\n",
    "with open('fmaps/fmaps.json', 'w') as json_file:\n",
    "    json.dump(fmaps_dict, json_file)\n",
    "    "
   ]
  },
  {
   "cell_type": "code",
   "execution_count": 28,
   "metadata": {},
   "outputs": [
    {
     "data": {
      "text/plain": [
       "dict_keys(['fmap0', 'fmap1', 'fmap2', 'fmap3', 'fmap4', 'fmap5', 'fmap6'])"
      ]
     },
     "execution_count": 28,
     "metadata": {},
     "output_type": "execute_result"
    }
   ],
   "source": [
    "# Load saved .json \n",
    "with open('fmaps/fmaps.json', 'r') as json_file:\n",
    "    tmp = json.load(json_file)\n",
    "\n",
    "tmp.keys()"
   ]
  },
  {
   "cell_type": "code",
   "execution_count": 29,
   "metadata": {},
   "outputs": [],
   "source": [
    "# Save fmaps saparately\n",
    "for i in range(len(fmaps)):\n",
    "    with open('fmaps/fmap_flatten{}.txt'.format(i), 'w') as f:\n",
    "        pixels = fmaps[i].view(-1).detach().numpy().tolist()\n",
    "        for px in pixels:\n",
    "            f.write('{}\\n'.format(px))"
   ]
  },
  {
   "cell_type": "code",
   "execution_count": 30,
   "metadata": {},
   "outputs": [],
   "source": [
    "# Check file 'fmaps/fmap_flatten0.txt'\n",
    "with open('fmaps/fmap_flatten0.txt', 'r') as f:\n",
    "    data = f.read().splitlines()\n",
    "    \n",
    "data = [float(i) for i in data]\n",
    "# data"
   ]
  },
  {
   "cell_type": "code",
   "execution_count": 31,
   "metadata": {},
   "outputs": [],
   "source": [
    "# Save the testing input img as well\n"
   ]
  },
  {
   "cell_type": "code",
   "execution_count": 32,
   "metadata": {},
   "outputs": [],
   "source": [
    "with open('input/input_img.txt', 'w') as f:\n",
    "    pixels = img.view(-1).numpy().tolist()\n",
    "    for px in pixels:\n",
    "        f.write('{}\\n'.format(px))"
   ]
  },
  {
   "cell_type": "code",
   "execution_count": 33,
   "metadata": {},
   "outputs": [
    {
     "data": {
      "text/plain": [
       "<matplotlib.image.AxesImage at 0x7f4d5c41d4a8>"
      ]
     },
     "execution_count": 33,
     "metadata": {},
     "output_type": "execute_result"
    },
    {
     "data": {
      "image/png": "[encoded data removed]",
      "text/plain": [
       "<Figure size 432x288 with 1 Axes>"
      ]
     },
     "metadata": {
      "needs_background": "light"
     },
     "output_type": "display_data"
    }
   ],
   "source": [
    "# Check file 'input/input_img.txt'\n",
    "with open('input/input_img.txt', 'r') as f:\n",
    "    data = f.read().splitlines()\n",
    "    \n",
    "data = [float(i) for i in data]\n",
    "\n",
    "\n",
    "import numpy as np \n",
    "\n",
    "data = np.array(data).reshape([28, 28])\n",
    "\n",
    "plt.imshow(data, cmap = 'Greys')"
   ]
  }
 ],
 "metadata": {
  "kernelspec": {
   "display_name": "Python 3",
   "language": "python",
   "name": "python3"
  },
  "language_info": {
   "codemirror_mode": {
    "name": "ipython",
    "version": 3
   },
   "file_extension": ".py",
   "mimetype": "text/x-python",
   "name": "python",
   "nbconvert_exporter": "python",
   "pygments_lexer": "ipython3",
   "version": "3.7.3"
  }
 },
 "nbformat": 4,
 "nbformat_minor": 2
}
